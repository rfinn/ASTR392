{
 "cells": [
  {
   "cell_type": "code",
   "execution_count": 6,
   "metadata": {},
   "outputs": [],
   "source": [
    "from astropy.modeling import models\n",
    "from matplotlib import pyplot as plt\n",
    "%matplotlib inline\n",
    "import numpy as np\n",
    "from astropy import units as u\n",
    "from astropy import constants as c"
   ]
  },
  {
   "cell_type": "markdown",
   "metadata": {},
   "source": [
    "## Problem 13.5 ###\n",
    "\n",
    "### Given: ###\n",
    "Star HD 209458 has the following properties:\n",
    "* M_s = 1.1 M_\\odot\n",
    "* L_s = 1.6 L_\\odot\n",
    "* T_s = 6000 K\n",
    "\n",
    "It is orbited by a planet with\n",
    "* M_p = 0.69 M_{jup}\n",
    "* R_p = 1.35 R_{jup}\n",
    "* d = 0.045 AU\n",
    "\n",
    "\n",
    "### Find: ####\n",
    "\n",
    "Would hydrogen evaportate from the star?\n",
    "\n",
    "\n",
    "### Approach: ###\n",
    "\n",
    "* Solve for escape temperature and temperature of the planet.  If $T_{planet} > T_{esc}$, then gas will evaporate.\n",
    "* Need to estimate the albedo - will use the albedo of gas giants, $a \\approx 0.5$."
   ]
  },
  {
   "cell_type": "code",
   "execution_count": 81,
   "metadata": {},
   "outputs": [],
   "source": [
    "#star properties\n",
    "M_s = 1.1 *c.M_sun\n",
    "L_s = 1.6 *c.L_sun\n",
    "T_s = 6000 *u.K\n",
    "\n",
    "# planet properties\n",
    "M_p = 0.69 * c.M_jup\n",
    "R_p = 1.35 * c.R_jup\n",
    "d = 0.045*c.au\n",
    "a = 0.5\n"
   ]
  },
  {
   "cell_type": "markdown",
   "metadata": {},
   "source": [
    "### Temperature of Planet ###\n",
    "\n",
    "Use Eqn 13.15\n",
    "\n",
    "$$ T_p = T_s (1-a)^{1/4} \\left(\\frac{R_s}{2D}\\right)^{1/2} $$\n",
    "\n",
    "Need to solve for radius of Sun using BB equation:\n",
    "$$ L = 4 \\pi R_s^2 \\sigma T^4 $$\n",
    "\n",
    "So $$R_s = \\sqrt{\\frac{L}{4 \\pi \\sigma T^4}}$$"
   ]
  },
  {
   "cell_type": "code",
   "execution_count": 87,
   "metadata": {},
   "outputs": [
    {
     "name": "stdout",
     "output_type": "stream",
     "text": [
      "814390950.0410734 m\n"
     ]
    }
   ],
   "source": [
    "R_s = np.sqrt(L_s/(4*np.pi*c.sigma_sb*T_s**4))\n",
    "print(R_s)"
   ]
  },
  {
   "cell_type": "code",
   "execution_count": 90,
   "metadata": {},
   "outputs": [
    {
     "name": "stdout",
     "output_type": "stream",
     "text": [
      "1240.869929267471 K\n"
     ]
    }
   ],
   "source": [
    "# From textbook Eqn 13.15\n",
    "T_p = (1-a)**(.25)*T_s*np.sqrt(R_s/2/d)\n",
    "print(T_p)"
   ]
  },
  {
   "cell_type": "markdown",
   "metadata": {},
   "source": [
    "### Escape Temperature ###\n",
    "\n",
    "$$T_{esc} = \\frac{1}{54} \\frac{G M m}{k R} $$\n",
    "\n",
    "* M is the mass of the planet\n",
    "* m is the mass of the gas atom in question, molecular hydrogen or $H_2$ ($2 \\times m_{proton}$)\n"
   ]
  },
  {
   "cell_type": "code",
   "execution_count": 94,
   "metadata": {},
   "outputs": [
    {
     "name": "stdout",
     "output_type": "stream",
     "text": [
      "4063.8643107803614 K kg m2 / (J s2)\n"
     ]
    }
   ],
   "source": [
    "m_H2 = 2*c.m_p\n",
    "T_esc = 1./54*c.G*M_p* m_H2/(c.k_B*R_p)\n",
    "print(T_esc)"
   ]
  },
  {
   "cell_type": "markdown",
   "metadata": {},
   "source": [
    "### Conclusion ###\n",
    "\n",
    "The planet is hot ($T = 1240$~K), but it is not hot enough to evaporate $H_2$, which has an escape temperature of $T = 4064$~K."
   ]
  },
  {
   "cell_type": "markdown",
   "metadata": {},
   "source": [
    "## Problem 13.6  - Detecting Light from Planets##\n",
    "\n",
    "\n",
    "### Given:###\n",
    "\n",
    "* set of wavelengths\n",
    "* temp and luminosity of the star\n",
    "* temp and radius of the planet\n",
    "\n",
    "### Find: ###\n",
    "\n",
    "* luminosity output of star vs planet as a function of wavelength\n",
    "\n",
    "### Aproach: ###\n",
    "\n",
    "* calculate the luminosity of the star and planet.\n",
    "* Use astropy's blackbody1D function to calculate the flux output at each wavelength.  \n",
    "* calculate the ratio of $L_{star}/L_{planet}$ as a function of wavelength.\n"
   ]
  },
  {
   "cell_type": "code",
   "execution_count": 76,
   "metadata": {},
   "outputs": [],
   "source": [
    "wavelengths = np.array([450., 700.,2200.,10000.]) # wavelengths is nm"
   ]
  },
  {
   "cell_type": "code",
   "execution_count": 77,
   "metadata": {},
   "outputs": [],
   "source": [
    "Tstar = 6000 * u.K\n",
    "Lstar = 1.61*c.L_sun\n",
    "bbstar = models.BlackBody1D(Tstar, Lstar)"
   ]
  },
  {
   "cell_type": "code",
   "execution_count": 78,
   "metadata": {},
   "outputs": [],
   "source": [
    "Tplanet = 1500. * u.K\n",
    "Rplanet = 1.35 * c.R_jup\n",
    "Lplanet = c.sigma_sb * Tplanet**4 * 4 * np.pi * Rplanet**2\n",
    "a = .5 #albedo of the planet\n",
    "bbplanet = models.BlackBody1D(Tplanet, Lplanet)"
   ]
  },
  {
   "cell_type": "code",
   "execution_count": 79,
   "metadata": {},
   "outputs": [
    {
     "name": "stdout",
     "output_type": "stream",
     "text": [
      "wavelength =  450.0\n",
      "\t star        =  559811050493.7655 W / Hz\n",
      "\t planet      =  887.0107753381873 W / Hz\n",
      "\t star/planet =  631120913.1369666\n",
      "wavelength =  700.0\n",
      "\t star        =  1026030373401.1783 W / Hz\n",
      "\t planet      =  476841.09685278946 W / Hz\n",
      "\t star/planet =  2151723.876513804\n",
      "wavelength =  2200.0\n",
      "\t star        =  497936507623.811 W / Hz\n",
      "\t planet      =  177612054.96402866 W / Hz\n",
      "\t star/planet =  2803.5062582022197\n",
      "wavelength =  10000.0\n",
      "\t star        =  38626446594.90183 W / Hz\n",
      "\t planet      =  90769388.42491443 W / Hz\n",
      "\t star/planet =  425.5448589570933\n"
     ]
    }
   ],
   "source": [
    "for w in wavelengths:\n",
    "    print('wavelength = ',w)\n",
    "    s = bbstar(w*u.nm)\n",
    "    p = bbplanet(w*u.nm)\n",
    "    #print(s)\n",
    "    #print(p)\n",
    "    print('\\t star        = ',s)\n",
    "    print('\\t planet      = ',p)\n",
    "    print('\\t star/planet = ',s.value/p.value)"
   ]
  },
  {
   "cell_type": "markdown",
   "metadata": {},
   "source": [
    "Conclusion:  The ratio of starlight to planet light is lowest in infrared wavelengths, so that is where you should try to image the planet.  In fact, astronomers who are trying to take direct images of planets usually work at 10 microns."
   ]
  },
  {
   "cell_type": "markdown",
   "metadata": {},
   "source": [
    "## Problem 13.8  - Eris ##"
   ]
  }
 ],
 "metadata": {
  "kernelspec": {
   "display_name": "Python 3",
   "language": "python",
   "name": "python3"
  },
  "language_info": {
   "codemirror_mode": {
    "name": "ipython",
    "version": 3
   },
   "file_extension": ".py",
   "mimetype": "text/x-python",
   "name": "python",
   "nbconvert_exporter": "python",
   "pygments_lexer": "ipython3",
   "version": "3.6.5"
  }
 },
 "nbformat": 4,
 "nbformat_minor": 2
}
