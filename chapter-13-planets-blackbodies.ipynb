{
 "cells": [
  {
   "cell_type": "code",
   "execution_count": 2,
   "metadata": {},
   "outputs": [],
   "source": [
    "from astropy.modeling import models\n",
    "from matplotlib import pyplot as plt\n",
    "%matplotlib inline\n",
    "import numpy as np\n",
    "from astropy import units as u\n",
    "from astropy import constants as c"
   ]
  },
  {
   "cell_type": "markdown",
   "metadata": {},
   "source": [
    "## Problem 13.5 ###\n",
    "\n",
    "### Given: ###\n",
    "Star HD 209458 has the following properties:\n",
    "* M_s = 1.1 M_\\odot\n",
    "* L_s = 1.6 L_\\odot\n",
    "* T_s = 6000 K\n",
    "\n",
    "It is orbited by a planet with\n",
    "* M_p = 0.69 M_{jup}\n",
    "* R_p = 1.35 R_{jup}\n",
    "* d = 0.045 AU\n",
    "\n",
    "\n",
    "### Find: ####\n",
    "\n",
    "Would hydrogen evaportate from the star?\n",
    "\n",
    "\n",
    "### Approach: ###\n",
    "\n",
    "* Solve for escape temperature and temperature of the planet.  If $T_{planet} > T_{esc}$, then gas will evaporate.\n",
    "* Need to estimate the albedo - will use the albedo of gas giants, $a \\approx 0.5$."
   ]
  },
  {
   "cell_type": "code",
   "execution_count": 3,
   "metadata": {},
   "outputs": [],
   "source": [
    "#star properties\n",
    "M_s = 1.1 *c.M_sun\n",
    "L_s = 1.6 *c.L_sun\n",
    "T_s = 6000 *u.K\n",
    "\n",
    "# planet properties\n",
    "M_p = 0.69 * c.M_jup\n",
    "R_p = 1.35 * c.R_jup\n",
    "d = 0.045*c.au\n",
    "a = 0.5\n"
   ]
  },
  {
   "cell_type": "markdown",
   "metadata": {},
   "source": [
    "### Temperature of Planet ###\n",
    "\n",
    "Use Eqn 13.15\n",
    "\n",
    "$$ T_p = T_s (1-a)^{1/4} \\left(\\frac{R_s}{2D}\\right)^{1/2} $$\n",
    "\n",
    "Need to solve for radius of Sun using BB equation:\n",
    "$$ L = 4 \\pi R_s^2 \\sigma T^4 $$\n",
    "\n",
    "So $$R_s = \\sqrt{\\frac{L}{4 \\pi \\sigma T^4}}$$"
   ]
  },
  {
   "cell_type": "code",
   "execution_count": 4,
   "metadata": {},
   "outputs": [
    {
     "name": "stdout",
     "output_type": "stream",
     "text": [
      "814390950.0410734 m\n"
     ]
    }
   ],
   "source": [
    "R_s = np.sqrt(L_s/(4*np.pi*c.sigma_sb*T_s**4))\n",
    "print(R_s)"
   ]
  },
  {
   "cell_type": "code",
   "execution_count": 5,
   "metadata": {},
   "outputs": [
    {
     "name": "stdout",
     "output_type": "stream",
     "text": [
      "1240.869929267471 K\n"
     ]
    }
   ],
   "source": [
    "# From textbook Eqn 13.15\n",
    "T_p = (1-a)**(.25)*T_s*np.sqrt(R_s/2/d)\n",
    "print(T_p)"
   ]
  },
  {
   "cell_type": "markdown",
   "metadata": {},
   "source": [
    "### Escape Temperature ###\n",
    "\n",
    "$$T_{esc} = \\frac{1}{54} \\frac{G M m}{k R} $$\n",
    "\n",
    "* M is the mass of the planet\n",
    "* m is the mass of the gas atom in question, molecular hydrogen or $H_2$ ($2 \\times m_{proton}$)\n"
   ]
  },
  {
   "cell_type": "code",
   "execution_count": 6,
   "metadata": {},
   "outputs": [
    {
     "name": "stdout",
     "output_type": "stream",
     "text": [
      "T_esc = 4063.86 K\n"
     ]
    }
   ],
   "source": [
    "m_H2 = 2*c.m_p\n",
    "T_esc = 1./54*c.G*M_p* m_H2/(c.k_B*R_p)\n",
    "print('T_esc = %.2f %s'%(T_esc.to('K').value,T_esc.to('K').unit))"
   ]
  },
  {
   "cell_type": "markdown",
   "metadata": {},
   "source": [
    "### Conclusion ###\n",
    "\n",
    "The planet is hot ($T = 1240$~K), but it is not hot enough to evaporate $H_2$, which has an escape temperature of $T = 4064$~K."
   ]
  },
  {
   "cell_type": "markdown",
   "metadata": {},
   "source": [
    "## Problem 13.6  - Detecting Light from Planets##\n",
    "\n",
    "\n",
    "### Given:###\n",
    "\n",
    "* set of wavelengths\n",
    "* temp and luminosity of the star\n",
    "* temp and radius of the planet\n",
    "\n",
    "### Find: ###\n",
    "\n",
    "* luminosity output of star vs planet as a function of wavelength\n",
    "\n",
    "### Aproach: ###\n",
    "\n",
    "* calculate the luminosity of the star and planet.\n",
    "* Use astropy's blackbody1D function to calculate the flux output at each wavelength.  \n",
    "* calculate the ratio of $L_{star}/L_{planet}$ as a function of wavelength.\n"
   ]
  },
  {
   "cell_type": "code",
   "execution_count": 7,
   "metadata": {},
   "outputs": [],
   "source": [
    "wavelengths = np.array([450., 700.,2200.,10000.]) # wavelengths is nm"
   ]
  },
  {
   "cell_type": "code",
   "execution_count": 8,
   "metadata": {},
   "outputs": [],
   "source": [
    "Tstar = 6000 * u.K\n",
    "Lstar = 1.61*c.L_sun\n",
    "bbstar = models.BlackBody1D(Tstar, Lstar)"
   ]
  },
  {
   "cell_type": "code",
   "execution_count": 9,
   "metadata": {},
   "outputs": [],
   "source": [
    "Tplanet = 1500. * u.K\n",
    "Rplanet = 1.35 * c.R_jup\n",
    "Lplanet = c.sigma_sb * Tplanet**4 * 4 * np.pi * Rplanet**2\n",
    "a = .5 #albedo of the planet\n",
    "bbplanet = models.BlackBody1D(Tplanet, Lplanet)\n",
    "# reflected light\n",
    "d = 0.045*c.au\n"
   ]
  },
  {
   "cell_type": "code",
   "execution_count": 22,
   "metadata": {},
   "outputs": [
    {
     "name": "stdout",
     "output_type": "stream",
     "text": [
      "wavelength =  450.0\n",
      "\t star        =  559811050493.7655 W / Hz\n",
      "\t planet      =  3596708.0360157457 W / Hz\n",
      "\t star/planet =  155645.39709314198\n",
      "\t planet/star =  6.424860732640721e-06\n",
      "wavelength =  700.0\n",
      "\t star        =  1026030373401.1783 W / Hz\n",
      "\t planet      =  7067317.626312279 W / Hz\n",
      "\t star/planet =  145179.6038685416\n",
      "\t planet/star =  6.88801989641388e-06\n",
      "wavelength =  2200.0\n",
      "\t star        =  497936507623.811 W / Hz\n",
      "\t planet      =  180810438.70756003 W / Hz\n",
      "\t star/planet =  2753.9146035100644\n",
      "\t planet/star =  0.00036311946591423977\n",
      "wavelength =  10000.0\n",
      "\t star        =  38626446594.90183 W / Hz\n",
      "\t planet      =  91017496.76195738 W / Hz\n",
      "\t star/planet =  424.3848487277508\n",
      "\t planet/star =  0.0023563517948340207\n"
     ]
    }
   ],
   "source": [
    "for w in wavelengths:\n",
    "    print('wavelength = ',w)\n",
    "    s = bbstar(w*u.nm)\n",
    "    p = bbplanet(w*u.nm) + a*s*(Rplanet/(4*d))**2\n",
    "    #print(s)\n",
    "    #print(p)\n",
    "    print('\\t star        = ',s)\n",
    "    print('\\t planet      = ',p)\n",
    "    print('\\t star/planet = ',s.value/p.value)\n",
    "    print('\\t planet/star = ',p.value/s.value)"
   ]
  },
  {
   "cell_type": "markdown",
   "metadata": {},
   "source": [
    "Conclusion:  The ratio of starlight to planet light is lowest in infrared wavelengths, so that is where you should try to image the planet.  In fact, astronomers who are trying to take direct images of planets usually work at 10 microns."
   ]
  },
  {
   "cell_type": "markdown",
   "metadata": {},
   "source": [
    "## Problem 13.8  - Eris ##\n",
    "\n",
    "\n",
    "### Part (a) ###\n",
    "\n",
    "**Given:**\n",
    "\n",
    "* model from Sect. 13.2\n",
    "\n",
    "\n",
    "\n",
    "* radius $R_p$\n",
    "* distance from Sun, $D$\n",
    "\n",
    "\n",
    "**Find:**\n",
    "\n",
    "* Luminosity of the planet, $L_p$\n",
    "\n",
    "**Approach:**\n",
    "\n",
    "* The amount reflected is the albedo times the amount incident:\n",
    "\n",
    "$$L_{reflected} = a L_{incident} $$\n",
    "\n",
    "* The amount incident is the flux of the star times the cross section of the planet:\n",
    "\n",
    "$$L_{incident} = flux \\times \\pi R_p^2 = \\frac{L_\\odot}{4 \\pi D^2} \\pi R_p^2 $$\n",
    "\n",
    "$$L_{incident} =  \\frac{L_\\odot R_p^2}{4 D^2} $$\n",
    "\n",
    "* And the reflected light is thus:\n",
    "\n",
    "\n",
    "$$L_{reflected} =  \\frac{a L_\\odot R_p^2}{4 D^2} $$\n",
    "\n",
    "\n",
    "### Part (b) ###\n",
    "\n",
    "**Given:**\n",
    "* $D = 97$ AU\n",
    "* $L_p = 5.8 \\times 10^{11}~J~s^{-1}$\n",
    "\n",
    "**Find:**\n",
    "* $R_p$, with upper and lower limits\n",
    "\n",
    "**Approach:**\n",
    "\n",
    "* Solve above equation for $R_p$:\n",
    "\n",
    "\n",
    "$$ R_p = 2 D \\sqrt{\\frac{L_p }{ a L_\\odot}}$$\n",
    "\n",
    "* need to estimate a realistic range for albedo.  Using upper and lower estimate for albedo will yield a range in $R_p$\n",
    "\n",
    "* For comparison, the albedo of Pluto is $0.44-0.61$ according to https://en.wikipedia.org/wiki/Bond_albedo\n",
    "\n",
    "* Mercury has the lowest albedo $a = 0.142$, and Venus has the highest albedo $a = 0.689$.\n"
   ]
  },
  {
   "cell_type": "code",
   "execution_count": 44,
   "metadata": {},
   "outputs": [],
   "source": [
    "D = 97.*u.AU\n",
    "Lp = 5.8e11*u.J/u.s\n",
    "Tsun = 5800.*u.K\n",
    "# Estimate albedo\n",
    "amin = 0.142\n",
    "amax = 1. # upper bound"
   ]
  },
  {
   "cell_type": "code",
   "execution_count": 45,
   "metadata": {},
   "outputs": [
    {
     "name": "stdout",
     "output_type": "stream",
     "text": [
      "Rp min = 3.00e+06 m\n"
     ]
    }
   ],
   "source": [
    "a = amin\n",
    "Rp = 2*D.to('m')*np.sqrt(Lp/a/c.L_sun)\n",
    "print('Rp min = %.2e %s'%(Rp.value,Rp.to('m').unit))"
   ]
  },
  {
   "cell_type": "code",
   "execution_count": 46,
   "metadata": {},
   "outputs": [
    {
     "name": "stdout",
     "output_type": "stream",
     "text": [
      "Rp min = 1.13e+06 m\n"
     ]
    }
   ],
   "source": [
    "a = amax\n",
    "Rp = 2*D.to('m')*np.sqrt(Lp/a/c.L_sun)\n",
    "print('Rp min = %.2e %s'%(Rp.value,Rp.to('m').unit))"
   ]
  },
  {
   "cell_type": "markdown",
   "metadata": {},
   "source": [
    "### Part (c) ###\n",
    "\n",
    "**Given: **\n",
    "\n",
    "* peak wavelength $\\lambda_{peak} = 116 ~\\mu m$\n",
    "\n",
    "**Find: **\n",
    "\n",
    "* effective temperature\n",
    "\n",
    "**Approach:**\n",
    "\n",
    "* Assume Eris is a blackbody, so we can apply Wien's Law\n",
    "\n",
    "$$ \\lambda_{peak} T = 2.9 \\times 10^{-3}~m~K $$"
   ]
  },
  {
   "cell_type": "code",
   "execution_count": 47,
   "metadata": {},
   "outputs": [
    {
     "name": "stdout",
     "output_type": "stream",
     "text": [
      "Effective temp = 25 K\n"
     ]
    }
   ],
   "source": [
    "lambda_max = 116*u.micron\n",
    "Tp = 2.9e-3*u.m*u.K/lambda_max.to('m')\n",
    "print('Effective temp = %.0f %s'%(T.value,T.unit))"
   ]
  },
  {
   "cell_type": "markdown",
   "metadata": {},
   "source": [
    "### Part (d) ###\n",
    "\n",
    "**Find:**\n",
    "\n",
    "* revised estimate for $R_p$\n",
    "\n",
    "\n",
    "**Approach:**\n",
    "\n",
    "* Use Eqn 13.15, which gives the planet temperature \n",
    "\n",
    "$$ T_p = T_\\odot (1-a)^{1/4} \\left(\\frac{R_\\odot}{2D}\\right)^{1/2} $$\n",
    "\n",
    "* Solve for albedo, and use temp from part (c) to estimate the albedo.\n",
    "\n",
    "$$ a = 1 - \\left(\\frac{T_p}{T_\\odot} \\right)^4 \\left(\\frac{2 D}{R_\\odot} \\right) ^2 $$\n",
    "\n",
    "* Use revised albedo to estimate the planet's radius, as we did in part (b)."
   ]
  },
  {
   "cell_type": "code",
   "execution_count": 50,
   "metadata": {},
   "outputs": [
    {
     "name": "stdout",
     "output_type": "stream",
     "text": [
      "albedo = 0.399\n"
     ]
    }
   ],
   "source": [
    "a = 1 - (Tp/Tsun)**4 * (2*D/c.R_sun)**2\n",
    "print('albedo = %.3f'%(a))"
   ]
  },
  {
   "cell_type": "code",
   "execution_count": 51,
   "metadata": {},
   "outputs": [
    {
     "name": "stdout",
     "output_type": "stream",
     "text": [
      "Rp min = 1.79e+06 m\n"
     ]
    }
   ],
   "source": [
    "# revised estimate of planet's radius\n",
    "Rp = 2*D.to('m')*np.sqrt(Lp/a/c.L_sun)\n",
    "print('Rp min = %.2e %s'%(Rp.value,Rp.to('m').unit))"
   ]
  },
  {
   "cell_type": "code",
   "execution_count": null,
   "metadata": {},
   "outputs": [],
   "source": []
  }
 ],
 "metadata": {
  "kernelspec": {
   "display_name": "Python 3",
   "language": "python",
   "name": "python3"
  },
  "language_info": {
   "codemirror_mode": {
    "name": "ipython",
    "version": 3
   },
   "file_extension": ".py",
   "mimetype": "text/x-python",
   "name": "python",
   "nbconvert_exporter": "python",
   "pygments_lexer": "ipython3",
   "version": "3.6.5"
  }
 },
 "nbformat": 4,
 "nbformat_minor": 2
}
