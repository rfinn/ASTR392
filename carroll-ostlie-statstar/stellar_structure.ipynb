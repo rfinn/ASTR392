{
 "cells": [
  {
   "cell_type": "markdown",
   "metadata": {},
   "source": [
    "### Example Code for Reading Output File ###\n"
   ]
  },
  {
   "cell_type": "code",
   "execution_count": 23,
   "metadata": {},
   "outputs": [],
   "source": [
    "from astropy.io import ascii\n",
    "import numpy as np\n",
    "from matplotlib import pyplot as plt\n",
    "%matplotlib inline"
   ]
  },
  {
   "cell_type": "code",
   "execution_count": 56,
   "metadata": {},
   "outputs": [],
   "source": [
    "infile = 'starmodl.dat'\n",
    "star = ascii.read(infile,comment='#',delimiter=' ')#,format='no_header')#,header=False)"
   ]
  },
  {
   "cell_type": "code",
   "execution_count": 57,
   "metadata": {},
   "outputs": [
    {
     "data": {
      "text/html": [
       "<i>Table length=415</i>\n",
       "<table id=\"table34489482712\" class=\"table-striped table-bordered table-condensed\">\n",
       "<thead><tr><th>r</th><th>Qm</th><th>L_r</th><th>T</th><th>P</th><th>rho</th><th>kap</th><th>eps</th><th>rad</th><th>dlPdlT</th></tr></thead>\n",
       "<thead><tr><th>float64</th><th>float64</th><th>float64</th><th>float64</th><th>float64</th><th>float64</th><th>float64</th><th>str8</th><th>str1</th><th>float64</th></tr></thead>\n",
       "<tr><td>4900000000.0</td><td>0.99</td><td>-5.1e+31</td><td>13000000.0</td><td>1.3e+17</td><td>80.0</td><td>2.0</td><td>0.97E+01</td><td>r</td><td>20.6</td></tr>\n",
       "<tr><td>5600000000.0</td><td>0.98</td><td>1.3e+32</td><td>12000000.0</td><td>1.3e+17</td><td>78.0</td><td>1.9</td><td>0.94E+01</td><td>r</td><td>5.0</td></tr>\n",
       "<tr><td>6300000000.0</td><td>0.97</td><td>3.3e+32</td><td>12000000.0</td><td>1.3e+17</td><td>76.0</td><td>1.9</td><td>0.89E+01</td><td>r</td><td>3.9</td></tr>\n",
       "<tr><td>6900000000.0</td><td>0.96</td><td>5.7e+32</td><td>12000000.0</td><td>1.2e+17</td><td>73.0</td><td>2.0</td><td>0.82E+01</td><td>r</td><td>3.5</td></tr>\n",
       "<tr><td>7600000000.0</td><td>0.94</td><td>8.2e+32</td><td>12000000.0</td><td>1.1e+17</td><td>71.0</td><td>2.0</td><td>0.74E+01</td><td>r</td><td>3.3</td></tr>\n",
       "<tr><td>8300000000.0</td><td>0.92</td><td>1.1e+33</td><td>12000000.0</td><td>1.1e+17</td><td>68.0</td><td>2.0</td><td>0.65E+01</td><td>r</td><td>3.3</td></tr>\n",
       "<tr><td>8900000000.0</td><td>0.9</td><td>1.3e+33</td><td>12000000.0</td><td>1e+17</td><td>65.0</td><td>2.1</td><td>0.57E+01</td><td>r</td><td>3.2</td></tr>\n",
       "<tr><td>9600000000.0</td><td>0.88</td><td>1.6e+33</td><td>11000000.0</td><td>9.4e+16</td><td>61.0</td><td>2.2</td><td>0.49E+01</td><td>r</td><td>3.2</td></tr>\n",
       "<tr><td>10000000000.0</td><td>0.85</td><td>1.8e+33</td><td>11000000.0</td><td>8.7e+16</td><td>58.0</td><td>2.2</td><td>0.41E+01</td><td>r</td><td>3.2</td></tr>\n",
       "<tr><td>11000000000.0</td><td>0.83</td><td>2e+33</td><td>11000000.0</td><td>8e+16</td><td>55.0</td><td>2.3</td><td>0.35E+01</td><td>r</td><td>3.3</td></tr>\n",
       "<tr><td>...</td><td>...</td><td>...</td><td>...</td><td>...</td><td>...</td><td>...</td><td>...</td><td>...</td><td>...</td></tr>\n",
       "<tr><td>67000000000.0</td><td>4.4e-10</td><td>2.9e+33</td><td>31000.0</td><td>410000.0</td><td>9.6e-08</td><td>87.0</td><td>0.30E-46</td><td>r</td><td>4.7</td></tr>\n",
       "<tr><td>67000000000.0</td><td>2.6e-10</td><td>2.9e+33</td><td>28000.0</td><td>230000.0</td><td>6.2e-08</td><td>92.0</td><td>0.28E-48</td><td>r</td><td>4.7</td></tr>\n",
       "<tr><td>67000000000.0</td><td>1.5e-10</td><td>2.9e+33</td><td>24000.0</td><td>120000.0</td><td>3.8e-08</td><td>100.0</td><td>0.11E-50</td><td>r</td><td>4.7</td></tr>\n",
       "<tr><td>67000000000.0</td><td>7.4e-11</td><td>2.9e+33</td><td>21000.0</td><td>60000.0</td><td>2.1e-08</td><td>110.0</td><td>0.14E-53</td><td>r</td><td>4.7</td></tr>\n",
       "<tr><td>67000000000.0</td><td>3.3e-11</td><td>2.9e+33</td><td>17000.0</td><td>26000.0</td><td>1.1e-08</td><td>120.0</td><td>0.35E-57</td><td>r</td><td>4.7</td></tr>\n",
       "<tr><td>67000000000.0</td><td>1.3e-11</td><td>2.9e+33</td><td>14000.0</td><td>8800.0</td><td>4.7e-09</td><td>130.0</td><td>0.68E-62</td><td>r</td><td>4.8</td></tr>\n",
       "<tr><td>67000000000.0</td><td>3.6e-12</td><td>2.9e+33</td><td>10000.0</td><td>2200.0</td><td>1.6e-09</td><td>150.0</td><td>0.18E-68</td><td>r</td><td>4.9</td></tr>\n",
       "<tr><td>67000000000.0</td><td>6.5e-13</td><td>2.9e+33</td><td>6900.0</td><td>300.0</td><td>3.2e-10</td><td>180.0</td><td>0.83E-79</td><td>r</td><td>4.9</td></tr>\n",
       "<tr><td>67000000000.0</td><td>4.1e-14</td><td>2.9e+33</td><td>3400.0</td><td>10.0</td><td>2.1e-11</td><td>230.0</td><td>0.75-100</td><td>r</td><td>4.2</td></tr>\n",
       "<tr><td>67000000000.0</td><td>0.0</td><td>2.9e+33</td><td>0.0</td><td>0.0</td><td>0.0</td><td>0.0</td><td>0.00E+00</td><td>r</td><td>4.2</td></tr>\n",
       "</table>"
      ],
      "text/plain": [
       "<Table length=415>\n",
       "      r          Qm     L_r        T      ...   kap     eps    rad   dlPdlT\n",
       "   float64    float64 float64   float64   ... float64   str8   str1 float64\n",
       "------------- ------- -------- ---------- ... ------- -------- ---- -------\n",
       " 4900000000.0    0.99 -5.1e+31 13000000.0 ...     2.0 0.97E+01    r    20.6\n",
       " 5600000000.0    0.98  1.3e+32 12000000.0 ...     1.9 0.94E+01    r     5.0\n",
       " 6300000000.0    0.97  3.3e+32 12000000.0 ...     1.9 0.89E+01    r     3.9\n",
       " 6900000000.0    0.96  5.7e+32 12000000.0 ...     2.0 0.82E+01    r     3.5\n",
       " 7600000000.0    0.94  8.2e+32 12000000.0 ...     2.0 0.74E+01    r     3.3\n",
       " 8300000000.0    0.92  1.1e+33 12000000.0 ...     2.0 0.65E+01    r     3.3\n",
       " 8900000000.0     0.9  1.3e+33 12000000.0 ...     2.1 0.57E+01    r     3.2\n",
       " 9600000000.0    0.88  1.6e+33 11000000.0 ...     2.2 0.49E+01    r     3.2\n",
       "10000000000.0    0.85  1.8e+33 11000000.0 ...     2.2 0.41E+01    r     3.2\n",
       "11000000000.0    0.83    2e+33 11000000.0 ...     2.3 0.35E+01    r     3.3\n",
       "          ...     ...      ...        ... ...     ...      ...  ...     ...\n",
       "67000000000.0 4.4e-10  2.9e+33    31000.0 ...    87.0 0.30E-46    r     4.7\n",
       "67000000000.0 2.6e-10  2.9e+33    28000.0 ...    92.0 0.28E-48    r     4.7\n",
       "67000000000.0 1.5e-10  2.9e+33    24000.0 ...   100.0 0.11E-50    r     4.7\n",
       "67000000000.0 7.4e-11  2.9e+33    21000.0 ...   110.0 0.14E-53    r     4.7\n",
       "67000000000.0 3.3e-11  2.9e+33    17000.0 ...   120.0 0.35E-57    r     4.7\n",
       "67000000000.0 1.3e-11  2.9e+33    14000.0 ...   130.0 0.68E-62    r     4.8\n",
       "67000000000.0 3.6e-12  2.9e+33    10000.0 ...   150.0 0.18E-68    r     4.9\n",
       "67000000000.0 6.5e-13  2.9e+33     6900.0 ...   180.0 0.83E-79    r     4.9\n",
       "67000000000.0 4.1e-14  2.9e+33     3400.0 ...   230.0 0.75-100    r     4.2\n",
       "67000000000.0     0.0  2.9e+33        0.0 ...     0.0 0.00E+00    r     4.2"
      ]
     },
     "execution_count": 57,
     "metadata": {},
     "output_type": "execute_result"
    }
   ],
   "source": [
    "star"
   ]
  },
  {
   "cell_type": "code",
   "execution_count": 61,
   "metadata": {},
   "outputs": [
    {
     "data": {
      "text/plain": [
       "(array([-2000000.,        0.,  2000000.,  4000000.,  6000000.,  8000000.,\n",
       "        10000000., 12000000., 14000000.]),\n",
       " <a list of 9 Text yticklabel objects>)"
      ]
     },
     "execution_count": 61,
     "metadata": {},
     "output_type": "execute_result"
    },
    {
     "data": {
      "image/png": "[encoded data removed]",
      "text/plain": [
       "<Figure size 576x432 with 1 Axes>"
      ]
     },
     "metadata": {},
     "output_type": "display_data"
    }
   ],
   "source": [
    "plt.figure(figsize=(8,6))\n",
    "plt.plot(star['r'],star['T'],label='Temperature')\n",
    "plt.xlabel('Radius (cm)',fontsize=16)\n",
    "plt.ylabel('Temperature (K)',fontsize=16)\n",
    "plt.xticks(fontsize=12)\n",
    "plt.yticks(fontsize=12)\n",
    "ax = plt.gca()\n",
    "ax.set_xticks('log')\n",
    "ax.st"
   ]
  },
  {
   "cell_type": "code",
   "execution_count": null,
   "metadata": {},
   "outputs": [],
   "source": []
  }
 ],
 "metadata": {
  "kernelspec": {
   "display_name": "Python 3",
   "language": "python",
   "name": "python3"
  },
  "language_info": {
   "codemirror_mode": {
    "name": "ipython",
    "version": 3
   },
   "file_extension": ".py",
   "mimetype": "text/x-python",
   "name": "python",
   "nbconvert_exporter": "python",
   "pygments_lexer": "ipython3",
   "version": "3.6.5"
  }
 },
 "nbformat": 4,
 "nbformat_minor": 2
}
