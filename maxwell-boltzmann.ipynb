{
 "cells": [
  {
   "cell_type": "markdown",
   "metadata": {},
   "source": [
    "## Plot a Maxwell Boltzmann Distribution ##\n",
    "\n"
   ]
  },
  {
   "cell_type": "code",
   "execution_count": 3,
   "metadata": {},
   "outputs": [],
   "source": [
    "import numpy as np\n",
    "from matplotlib import pyplot as plt\n",
    "%matplotlib inline\n",
    "from astropy import constants as const"
   ]
  },
  {
   "cell_type": "markdown",
   "metadata": {},
   "source": [
    "astropy includes constants - this will make our calculations easier."
   ]
  },
  {
   "cell_type": "code",
   "execution_count": 37,
   "metadata": {},
   "outputs": [
    {
     "name": "stdout",
     "output_type": "stream",
     "text": [
      "Help on package astropy.constants in astropy:\n",
      "\n",
      "NAME\n",
      "    astropy.constants\n",
      "\n",
      "DESCRIPTION\n",
      "    Contains astronomical and physical constants for use in Astropy or other\n",
      "    places.\n",
      "    \n",
      "    A typical use case might be::\n",
      "    \n",
      "        >>> from astropy.constants import c, m_e\n",
      "        >>> # ... define the mass of something you want the rest energy of as m ...\n",
      "        >>> m = m_e\n",
      "        >>> E = m * c**2\n",
      "        >>> E.to('MeV')  # doctest: +FLOAT_CMP\n",
      "        <Quantity 0.510998927603161 MeV>\n",
      "    \n",
      "    The following constants are available:\n",
      "    \n",
      "    ========== ============== ================ =========================\n",
      "       Name        Value            Unit       Description\n",
      "    ========== ============== ================ =========================\n",
      "        G       6.67408e-11     m3 / (kg s2)   Gravitational constant\n",
      "       N_A     6.02214086e+23    1 / (mol)     Avogadro's number\n",
      "        R        8.3144598      J / (K mol)    Gas constant\n",
      "       Ryd       10973731.6       1 / (m)      Rydberg constant\n",
      "        a0     5.29177211e-11        m         Bohr radius\n",
      "      alpha    0.00729735257                   Fine-structure constant\n",
      "       atm         101325            Pa        Standard atmosphere\n",
      "      b_wien    0.0028977729        m K        Wien wavelength displacement law constant\n",
      "        c        299792458        m / (s)      Speed of light in vacuum\n",
      "        e      1.60217662e-19        C         Electron charge\n",
      "       eps0    8.85418782e-12       F/m        Electric constant\n",
      "        g0        9.80665          m / s2      Standard acceleration of gravity\n",
      "        h      6.62607004e-34       J s        Planck constant\n",
      "       hbar    1.0545718e-34        J s        Reduced Planck constant\n",
      "       k_B     1.38064852e-23     J / (K)      Boltzmann constant\n",
      "       m_e     9.10938356e-31        kg        Electron mass\n",
      "       m_n     1.67492747e-27        kg        Neutron mass\n",
      "       m_p     1.6726219e-27         kg        Proton mass\n",
      "       mu0     1.25663706e-06       N/A2       Magnetic constant\n",
      "       muB     9.27400999e-24       J/T        Bohr magneton\n",
      "     sigma_T   6.65245872e-29        m2        Thomson scattering cross-section\n",
      "     sigma_sb   5.670367e-08    W / (K4 m2)    Stefan-Boltzmann constant\n",
      "        u      1.66053904e-27        kg        Atomic mass\n",
      "     GM_earth   3.986004e+14     m3 / (s2)     Nominal Earth mass parameter\n",
      "      GM_jup   1.2668653e+17     m3 / (s2)     Nominal Jupiter mass parameter\n",
      "      GM_sun   1.3271244e+20     m3 / (s2)     Nominal solar mass parameter\n",
      "      L_bol0     3.0128e+28          W         Luminosity for absolute bolometric magnitude 0\n",
      "      L_sun      3.828e+26           W         Nominal solar luminosity\n",
      "     M_earth   5.97236473e+24        kg        Earth mass\n",
      "      M_jup    1.89818717e+27        kg        Jupiter mass\n",
      "      M_sun    1.98847542e+30        kg        Solar mass\n",
      "     R_earth      6378100            m         Nominal Earth equatorial radius\n",
      "      R_jup       71492000           m         Nominal Jupiter equatorial radius\n",
      "      R_sun      695700000           m         Nominal solar radius\n",
      "        au     1.49597871e+11        m         Astronomical Unit\n",
      "       kpc     3.08567758e+19        m         Kiloparsec\n",
      "        pc     3.08567758e+16        m         Parsec\n",
      "    ========== ============== ================ =========================\n",
      "\n",
      "PACKAGE CONTENTS\n",
      "    astropyconst13\n",
      "    astropyconst20\n",
      "    cgs\n",
      "    codata2010\n",
      "    codata2014\n",
      "    constant\n",
      "    iau2012\n",
      "    iau2015\n",
      "    si\n",
      "    tests (package)\n",
      "    utils\n",
      "\n",
      "FUNCTIONS\n",
      "    set_enabled_constants(modname)\n",
      "        Context manager to temporarily set values in the ``constants``\n",
      "        namespace to an older version.\n",
      "        See :ref:`astropy-constants-prior` for usage.\n",
      "        \n",
      "        Parameters\n",
      "        ----------\n",
      "        modname : {'astropyconst13'}\n",
      "            Name of the module containing an older version.\n",
      "\n",
      "DATA\n",
      "    G = <<class 'astropy.constants.codata2014.CODATA2014...e-15 unit='m3 /...\n",
      "    GM_earth = <<class 'astropy.constants.iau2015.IAU2015'> nam...it='m3 /...\n",
      "    GM_jup = <<class 'astropy.constants.iau2015.IAU2015'> nam...it='m3 / s...\n",
      "    GM_sun = <<class 'astropy.constants.iau2015.IAU2015'> nam...it='m3 / s...\n",
      "    L_bol0 = <<class 'astropy.constants.iau2015.IAU2015'> nam...0.0 unit='...\n",
      "    L_sun = <<class 'astropy.constants.iau2015.IAU2015'> nam...0.0 unit='W...\n",
      "    M_earth = <<class 'astropy.constants.iau2015.IAU2015'> nam...eference=...\n",
      "    M_jup = <<class 'astropy.constants.iau2015.IAU2015'> nam...eference='I...\n",
      "    M_sun = <<class 'astropy.constants.iau2015.IAU2015'> nam...eference='I...\n",
      "    N_A = <<class 'astropy.constants.codata2014.CODATA2014...0000000.0 uni...\n",
      "    R = <<class 'astropy.constants.codata2014.CODATA2014...8e-06 unit='J /...\n",
      "    R_earth = <<class 'astropy.constants.iau2015.IAU2015'> nam...0.0 unit=...\n",
      "    R_jup = <<class 'astropy.constants.iau2015.IAU2015'> nam...0.0 unit='m...\n",
      "    R_sun = <<class 'astropy.constants.iau2015.IAU2015'> nam...0.0 unit='m...\n",
      "    Ryd = <<class 'astropy.constants.codata2014.CODATA2014...nty=6.5e-05 u...\n",
      "    a0 = <<class 'astropy.constants.codata2014.CODATA2014...rtainty=1.2e-2...\n",
      "    alpha = <<class 'astropy.constants.codata2014.CODATA2014...ertainty=1....\n",
      "    atm = <<class 'astropy.constants.codata2014.CODATA2014...ncertainty=0....\n",
      "    au = <<class 'astropy.constants.iau2015.IAU2015'> nam...=0.0 unit='m' ...\n",
      "    b_wien = <<class 'astropy.constants.codata2014.CODATA2014...ainty=1.7e...\n",
      "    c = <<class 'astropy.constants.codata2014.CODATA2014...rtainty=0.0 uni...\n",
      "    e = <<class 'astropy.constants.codata2014.EMCODATA20...rtainty=9.8e-28...\n",
      "    eps0 = <<class 'astropy.constants.codata2014.EMCODATA20...rtainty=0.0 ...\n",
      "    g0 = <<class 'astropy.constants.codata2014.CODATA2014...tainty=0.0 uni...\n",
      "    h = <<class 'astropy.constants.codata2014.CODATA2014...ainty=8.1e-42 u...\n",
      "    hbar = <<class 'astropy.constants.codata2014.CODATA2014...ainty=1.3e-4...\n",
      "    k_B = <<class 'astropy.constants.codata2014.CODATA2014...nty=7.9e-30 u...\n",
      "    kpc = <<class 'astropy.constants.iau2015.IAU2015'> nam...rtainty=0.0 u...\n",
      "    m_e = <<class 'astropy.constants.codata2014.CODATA2014...tainty=1.1e-3...\n",
      "    m_n = <<class 'astropy.constants.codata2014.CODATA2014...tainty=2.1e-3...\n",
      "    m_p = <<class 'astropy.constants.codata2014.CODATA2014...tainty=2.1e-3...\n",
      "    mu0 = <<class 'astropy.constants.codata2014.CODATA2014...tainty=0.0 un...\n",
      "    muB = <<class 'astropy.constants.codata2014.CODATA2014...ainty=2e-31 u...\n",
      "    pc = <<class 'astropy.constants.iau2015.IAU2015'> nam...rtainty=0.0 un...\n",
      "    sigma_T = <<class 'astropy.constants.codata2014.CODATA2014...tainty=9....\n",
      "    sigma_sb = <<class 'astropy.constants.codata2014.CODATA2014...3e-13 un...\n",
      "    u = <<class 'astropy.constants.codata2014.CODATA2014...ertainty=2e-35 ...\n",
      "\n",
      "FILE\n",
      "    //anaconda/envs/py36/lib/python3.6/site-packages/astropy/constants/__init__.py\n",
      "\n",
      "\n"
     ]
    }
   ],
   "source": [
    "help(const)"
   ]
  },
  {
   "cell_type": "code",
   "execution_count": 45,
   "metadata": {},
   "outputs": [],
   "source": [
    "amu = 14*2 # diatomic Nitrogen\n",
    "T = 293 # temp in K\n",
    "Ntot = 1"
   ]
  },
  {
   "cell_type": "code",
   "execution_count": 46,
   "metadata": {},
   "outputs": [],
   "source": [
    "m = amu*const.m_p # mass of gas particle\n",
    "vpeak = np.sqrt(2*const.k_B*T/m)"
   ]
  },
  {
   "cell_type": "code",
   "execution_count": 47,
   "metadata": {},
   "outputs": [],
   "source": [
    "v = np.linspace(0,3,100)*vpeak\n",
    "n = Ntot * (m/(2*np.pi*const.k_B*T))**(1.5)*np.exp(-1*m*v**2/(2*const.k_B*T))* 4 * np.pi*v**2"
   ]
  },
  {
   "cell_type": "code",
   "execution_count": 48,
   "metadata": {},
   "outputs": [
    {
     "data": {
      "image/png": "[encoded data removed]",
      "text/plain": [
       "<Figure size 432x288 with 1 Axes>"
      ]
     },
     "metadata": {},
     "output_type": "display_data"
    }
   ],
   "source": [
    "plt.figure()\n",
    "plt.plot(v/vpeak,n/max(n),lw=2)\n",
    "plt.xlabel('$v/v_{peak}$',fontsize=18)\n",
    "plt.ylabel('$N(v)$',fontsize=18)\n",
    "plt.xticks(fontsize=12)\n",
    "plt.yticks(fontsize=12)\n",
    "plt.subplots_adjust(bottom=.15)\n",
    "plt.savefig('maxwell-boltzmann.png')"
   ]
  }
 ],
 "metadata": {
  "kernelspec": {
   "display_name": "Python 3",
   "language": "python",
   "name": "python3"
  },
  "language_info": {
   "codemirror_mode": {
    "name": "ipython",
    "version": 3
   },
   "file_extension": ".py",
   "mimetype": "text/x-python",
   "name": "python",
   "nbconvert_exporter": "python",
   "pygments_lexer": "ipython3",
   "version": "3.6.5"
  }
 },
 "nbformat": 4,
 "nbformat_minor": 2
}
